{
 "cells": [
  {
   "cell_type": "markdown",
   "metadata": {},
   "source": [
    "SINGULAL_VALUE_DECOMPOSITION"
   ]
  },
  {
   "cell_type": "code",
   "execution_count": 1,
   "metadata": {},
   "outputs": [],
   "source": [
    "import torch\n",
    "import numpy as np \n",
    "_=torch.manual_seed(0)"
   ]
  },
  {
   "cell_type": "code",
   "execution_count": 4,
   "metadata": {},
   "outputs": [
    {
     "name": "stdout",
     "output_type": "stream",
     "text": [
      "tensor([[ 4.2487e+00,  1.5825e+00, -1.2685e+00, -1.4282e-02, -4.1585e-02,\n",
      "         -4.6723e-01,  7.0073e-01,  4.5244e-01,  5.9456e-01, -7.0175e-01],\n",
      "        [-4.2569e+00, -9.3086e-01, -1.9830e+00,  3.5119e+00, -1.8117e+00,\n",
      "         -3.6012e+00,  2.6573e-01, -1.7692e+00,  2.9592e+00,  4.8613e+00],\n",
      "        [ 1.4225e+00,  6.1633e-02,  4.9506e-01, -9.4286e-01,  6.8647e-01,\n",
      "          1.4903e+00,  1.0352e-01,  1.0647e+00, -7.6000e-01, -1.3699e+00],\n",
      "        [-1.4678e+00, -1.0089e+00, -2.4142e-01,  8.4236e-01,  6.6895e-04,\n",
      "          3.6169e-01,  2.6141e-01,  7.1373e-01,  6.3386e-01,  1.1965e+00],\n",
      "        [ 5.7512e-01,  1.2515e-01,  7.7555e-01, -1.0382e+00,  4.7059e-01,\n",
      "          9.4334e-01, -2.3796e-01,  2.5022e-01, -9.7077e-01, -1.3200e+00],\n",
      "        [ 1.6539e+00,  2.2438e-01, -9.4559e-01,  5.6617e-01,  2.7365e-02,\n",
      "          9.9351e-02,  6.4995e-01,  9.1590e-01,  8.0297e-01,  3.7304e-01],\n",
      "        [-9.6855e-01,  1.3232e-01,  5.7411e-01, -4.0125e-01, -1.7140e-01,\n",
      "         -5.0233e-01, -5.2142e-01, -1.0401e+00, -5.3574e-01, -2.8272e-01],\n",
      "        [ 7.6005e-01,  4.2850e-01,  1.9337e+00, -2.4284e+00,  8.6146e-01,\n",
      "          1.6011e+00, -8.0914e-01, -1.5429e-01, -2.3477e+00, -2.9693e+00],\n",
      "        [-1.3463e+00, -3.0543e-01, -1.6905e-03,  4.1791e-01, -2.8833e-01,\n",
      "         -5.5812e-01, -1.5977e-01, -5.2611e-01,  2.3403e-01,  7.2181e-01],\n",
      "        [ 5.8042e-01,  4.8072e-01,  3.4655e-01, -6.2659e-01,  6.0264e-02,\n",
      "         -6.1004e-02, -2.4461e-01, -4.3358e-01, -5.4632e-01, -8.1286e-01]])\n"
     ]
    }
   ],
   "source": [
    "d,k=10,10\n",
    "#so this is the efficient way we can generate rank_deficient matrix\n",
    "W_rank=3\n",
    "W=torch.randn(d,W_rank)@ torch.randn(W_rank,k)\n",
    "print(W)"
   ]
  },
  {
   "cell_type": "code",
   "execution_count": 5,
   "metadata": {},
   "outputs": [
    {
     "name": "stdout",
     "output_type": "stream",
     "text": [
      "Rank of matrix W:3\n"
     ]
    }
   ],
   "source": [
    "#lets see the rank of the matrix \n",
    "W_rank=np.linalg.matrix_rank(W)\n",
    "print(f\"Rank of matrix W:{W_rank}\")"
   ]
  },
  {
   "cell_type": "markdown",
   "metadata": {},
   "source": [
    "# LETS COMPUTE SVD COMPOSITION"
   ]
  },
  {
   "cell_type": "code",
   "execution_count": 8,
   "metadata": {},
   "outputs": [
    {
     "name": "stdout",
     "output_type": "stream",
     "text": [
      "shape of B:torch.Size([10, 3])\n",
      "shape of A:torch.Size([3, 10])\n"
     ]
    }
   ],
   "source": [
    "U,S,V=torch.svd(W)\n",
    "U_r=U[:,:W_rank]\n",
    "S_r=torch.diag(S[:W_rank])\n",
    "V_r=V[:,:W_rank].t()\n",
    "\n",
    "#   compute c=U_r *S_r and R=v_r\n",
    "B=U_r @S_r\n",
    "A=V_r\n",
    "print(f\"shape of B:{B.shape}\")\n",
    "print(f\"shape of A:{A.shape}\")"
   ]
  },
  {
   "cell_type": "code",
   "execution_count": 10,
   "metadata": {},
   "outputs": [
    {
     "name": "stdout",
     "output_type": "stream",
     "text": [
      "tensor([-4.4895,  9.1701, -6.1757,  2.3967, -4.8664, -1.6132,  1.9080, -4.3373,\n",
      "         2.0090, -1.8921])\n",
      "tensor([-4.4895,  9.1701, -6.1757,  2.3967, -4.8664, -1.6132,  1.9080, -4.3373,\n",
      "         2.0090, -1.8921])\n"
     ]
    }
   ],
   "source": [
    "#Generate random bias and input\n",
    "bias=torch.randn(d)\n",
    "x=torch.randn(d)\n",
    "#lets now compute the y\n",
    "y=W @ x+bias\n",
    "y_prime=(B@A)@x+bias \n",
    "print(y)\n",
    "print(y_prime)"
   ]
  },
  {
   "cell_type": "code",
   "execution_count": 11,
   "metadata": {},
   "outputs": [
    {
     "name": "stdout",
     "output_type": "stream",
     "text": [
      "here the total parameters :100\n",
      "here the total parameters :60\n"
     ]
    }
   ],
   "source": [
    "print(f\"here the total parameters :{W.nelement()}\")\n",
    "print(f\"here the total parameters :{A.nelement()+A.nelement()}\")"
   ]
  }
 ],
 "metadata": {
  "kernelspec": {
   "display_name": "Python 3",
   "language": "python",
   "name": "python3"
  },
  "language_info": {
   "codemirror_mode": {
    "name": "ipython",
    "version": 3
   },
   "file_extension": ".py",
   "mimetype": "text/x-python",
   "name": "python",
   "nbconvert_exporter": "python",
   "pygments_lexer": "ipython3",
   "version": "3.9.5"
  },
  "orig_nbformat": 4
 },
 "nbformat": 4,
 "nbformat_minor": 2
}
